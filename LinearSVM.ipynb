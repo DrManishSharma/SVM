{
  "nbformat": 4,
  "nbformat_minor": 0,
  "metadata": {
    "colab": {
      "name": "LinearSVM.ipynb",
      "provenance": [],
      "collapsed_sections": [
        "8G3amYrzBiq3"
      ],
      "toc_visible": true,
      "authorship_tag": "ABX9TyM6/istTNLvMuTqFE/lIlQR",
      "include_colab_link": true
    },
    "kernelspec": {
      "name": "python3",
      "display_name": "Python 3"
    },
    "language_info": {
      "name": "python"
    }
  },
  "cells": [
    {
      "cell_type": "markdown",
      "metadata": {
        "id": "view-in-github",
        "colab_type": "text"
      },
      "source": [
        "<a href=\"https://colab.research.google.com/github/DrManishSharma/SVM/blob/main/LinearSVM.ipynb\" target=\"_parent\"><img src=\"https://colab.research.google.com/assets/colab-badge.svg\" alt=\"Open In Colab\"/></a>"
      ]
    },
    {
      "cell_type": "markdown",
      "metadata": {
        "id": "8G3amYrzBiq3"
      },
      "source": [
        "# <center> <font color=violet><b> Linear SVM </b></span> </center>\n",
        "---\n",
        "\n",
        "\n",
        "\n",
        "---\n",
        "\n"
      ]
    },
    {
      "cell_type": "markdown",
      "metadata": {
        "id": "5vp2TqXDCdwB"
      },
      "source": [
        "# 1. Background of SVM\n",
        "SVM is <ul>\n",
        "<li>Supervised Machine Learning Algorithm</li>\n",
        "<li>Used for <b>Classification</b> and Regression</li>\n",
        "</ul>"
      ]
    },
    {
      "cell_type": "markdown",
      "metadata": {
        "id": "eTM8nXGsGtZI"
      },
      "source": [
        "## Optimization of SVM\n",
        "Optimization depends upon <b>dot product of the pairs of vectors</b>\n",
        "\n",
        "<ul>\n",
        "<li> Derrivation </li>\n",
        "    \n",
        "<figure>\n",
        "<center>\n",
        "<img src='https://drive.google.com/uc?export=view&id=1Q_7qJfIZkVEBiW_0UAF8DnFUEUIJrnA2' width=50% />\n",
        "<figcaption>Figure 1</figcaption></center>\n",
        "</figure>\n",
        "\n",
        "Assume a binary classification problem as shown in figure above, inorder to separate the two classes in 2D a decision boundary needs to be decided. If the boundary separating the classes is linear the classes are said to be linearly separable.\n",
        "\n",
        "Multiple lines can act as the decision boundary which separates the two classes (look at the figure below). \n",
        "\n",
        "<figure>\n",
        "<center>\n",
        "<img src='https://drive.google.com/uc?export=view&id=1SnMqZIGWdyGfcMIqwkGqMrklp9hwdYN5' width=50% />\n",
        "<figcaption>Figure 2</figcaption></center>\n",
        "</figure>\n",
        "\n",
        "How to decide whether blue, yellow, green or someother line is the best decision boundary?\n",
        "Inorder to define the best decision boundary we use the principle of maximum margin. The boundary which is at the maximum distance from the nearest members of both the class is selected as the best boundary. In the figure below the hashed lines are the lines passing through the nearest points of the + and - class. Distance from the yellow line to the hashed line is define as the margin. Given that among all the possible lines separating the two classes the yellow line has the highest marging then the yellow line is the best decsion boundary. The points of both the classes through which the hashed yellow line passes is/are known as support vector(s). \n",
        "\n",
        "<figure>\n",
        "<center>\n",
        "<img src='https://drive.google.com/uc?export=view&id=1h9fiCmTw8UPJokzBoG23y2_RpQcDOs9R' width=50% />\n",
        "<figcaption>Figure 3</figcaption></center>\n",
        "</figure>\n",
        "\n",
        "In order to maximize the the margins or distance between two hashed lines we need to create an expression and take derrivative of it to find the optimum (extremum) value. Assume a vector $w \\ $ which is normal to the decision boundary and an unknown vector $u \\ $. Inorder to decide weather the unknown vector $u \\ $ lies in the side of - ive class or + ive class we meassure the length of projection of $u \\ $ on $w \\ $ if it is greater than a certain length it is in +ive class or else it belongs to -ive class (or lies on the margin).\n",
        "\n",
        "$$ u \\cdot w + b \\  \\geq 0 \\ for \\ +ive \\ class $$ \n",
        "\n",
        "Inorder to differentiate between + and - class we assume that if the unknown vector is a vector from + class ($x_{+} \\ $) it should give a value greater than one or if it is a vector from - class ($x_{-} \\ $) it should give a value less than -1. +1 and -1 value is decided to bring in the clear separation between both the classes. So mathematically the condition is:\n",
        "  \n",
        "\n",
        "  $$ x_{+} \\cdot w + b \\  \\geq 1  $$\n",
        "  $$ x_{-} \\cdot w + b \\  \\leq -1  $$\n",
        "\n",
        "For mathematical convenience let's introduce a variable $ y_{i} $ such that $ y_{i} $ = 1 for + samples and $ y_{i} $ = -1 for - samples. Multiplying $ y_{i} $ with the equations above we get:\n",
        "\n",
        " $$ y_{i}(x_{i} \\cdot w + b )\\ - 1 \\geq 0  $$\n",
        "\n",
        "The support vector from + class ($ x_{+sv} $) and - class ($ x_{-sv} $) lies on the margin itself. So the projection of the vector ($ x_{+sv} - x_{-sv} $) $\\cdot w/|w|$ on normal $ w $ is the distance between the margins. This distance should be maximized with the constraints given above. \n",
        "\n",
        "<ul>\n",
        "<li> maximize: $$  (x_{+sv} - x_{-sv}) \\cdot  \\frac{w}{|w|}  $$ </li>\n",
        "from equation above: \n",
        "<ul>\n",
        "<li>$$  x_{+sv} \\cdot w = 1 - b  $$</li>\n",
        "<li>$$  x_{-sv} \\cdot w = -1 - b  $$</li>\n",
        "</ul>\n",
        "thus the maximum condition becomes: 2/|w| or it can be changed to:\n",
        "<li><b>minimize:</b> $$  \\frac{1}{2} |w|^{2} $$</li>\n",
        "<li> <b>constraint: $$ y_{i}(x_{i} \\cdot w + b )\\ - 1 = 0 $$</b> </li>\n",
        "</ul>\n",
        "To find an extremum along with constraints we can use Langrange multiplier,\n",
        "$$ L = \\frac{1}{2} |w|^{2} - \\sum \\alpha_{i}[ y_{i}(x_{i} \\cdot w + b )\\ - 1 ] $$</b>\n",
        "<li> The minimum of Lagrangian is:\n",
        "$$  L_{min} = \\sum \\alpha_{i} - \\frac{1}{2} \\sum_{i} \\sum_{j} \\alpha_{i} \\alpha_{j}y_{i}y_{j}  x_{i} \\cdot x_{j} $$</li>\n",
        "</ul>"
      ]
    },
    {
      "cell_type": "markdown",
      "metadata": {
        "id": "bDt1s0lzz2ms"
      },
      "source": [
        "## If classes are linearly non-separable\n",
        "In such cases adding extra features and transforming the vectors to higher dimension might help in separating the vectors by a plane (hyper plane). For example assume two classes c1(blue) and c2(orange) shown in the figure below. **There seem to be no linear decision boundary for the two classes. What if a new dimension is added to the data x2 = (x1)^2**. "
      ]
    },
    {
      "cell_type": "code",
      "metadata": {
        "colab": {
          "base_uri": "https://localhost:8080/",
          "height": 305
        },
        "cellView": "form",
        "id": "5_ijEP-O0lnE",
        "outputId": "8c7fcb5b-dab0-4c12-f17d-7fdc46ecd433"
      },
      "source": [
        "#@title Non Linearly Separable Data\n",
        "import matplotlib.pyplot as plt\n",
        "c1 = [-4, -3,-2,2,3,4]\n",
        "c2 = [-1,-0.5,-0.25,0.25,0.5,1]\n",
        "y = [0, 0, 0, 0, 0, 0]\n",
        "plt.scatter(x1,y)\n",
        "plt.scatter(x2,y)\n",
        "plt.xlabel('x1', fontsize=20)\n",
        "plt.ylabel('x2', fontsize=20)"
      ],
      "execution_count": null,
      "outputs": [
        {
          "output_type": "execute_result",
          "data": {
            "text/plain": [
              "Text(0, 0.5, 'x2')"
            ]
          },
          "metadata": {
            "tags": []
          },
          "execution_count": 14
        },
        {
          "output_type": "display_data",
          "data": {
            "image/png": "[encoded data removed]",
            "text/plain": [
              "<Figure size 432x288 with 1 Axes>"
            ]
          },
          "metadata": {
            "tags": [],
            "needs_background": "light"
          }
        }
      ]
    },
    {
      "cell_type": "code",
      "metadata": {
        "colab": {
          "base_uri": "https://localhost:8080/",
          "height": 305
        },
        "cellView": "form",
        "id": "HFIt8lg03Dds",
        "outputId": "79bad0f7-8b8d-4bf6-eec7-631f348ba04d"
      },
      "source": [
        "#@title Transforming linear data to higher dimension to make it linearly separable\n",
        "y1 = [16,9,4,4,9,16]\n",
        "y2 = [1,0.25,0.0625,0.0625,0.25,1]\n",
        "y3 = [2,2,2,2,2,2]\n",
        "plt.scatter(c1,y1)\n",
        "plt.scatter(c2,y2)\n",
        "plt.xlabel('x1', fontsize=20)\n",
        "plt.ylabel('x2', fontsize=20)\n",
        "plt.plot(c1,y3)"
      ],
      "execution_count": null,
      "outputs": [
        {
          "output_type": "execute_result",
          "data": {
            "text/plain": [
              "[<matplotlib.lines.Line2D at 0x7fc8daf577d0>]"
            ]
          },
          "metadata": {
            "tags": []
          },
          "execution_count": 15
        },
        {
          "output_type": "display_data",
          "data": {
            "image/png": "[encoded data removed]",
            "text/plain": [
              "<Figure size 432x288 with 1 Axes>"
            ]
          },
          "metadata": {
            "tags": [],
            "needs_background": "light"
          }
        }
      ]
    },
    {
      "cell_type": "markdown",
      "metadata": {
        "id": "iD1yFTPg4gHY"
      },
      "source": [
        "Similarly with 2 dimensional data containing $ x_{1} $ and $ x_{2} $ dimension new dimensions like $ x_{1}^{2} $, $ x_{2}^{2} $, $ x_{1} x_{2} $, $ x_{1}^{3} $ e.t.c can be created and data can be transformed to higher dimension to separate the classes. \n",
        "\n",
        "We have some functions which can help to transform the data to higher dimesions. These functions are known as kernels. "
      ]
    },
    {
      "cell_type": "markdown",
      "metadata": {
        "id": "ZCDC7GfLERAf"
      },
      "source": [
        "##  Some popular Kernels in SVM\n",
        "<ul>\n",
        "<li><b>Linear</b> </li>\n",
        "<li>Polynomial </li>\n",
        "<li>Gaussian </li>\n",
        "<li>Radial Basis Function (RBF)</li>\n",
        "<li>Hyperbolic </li>\n",
        "<li>Sigmoid</li>\n",
        "</ul>"
      ]
    },
    {
      "cell_type": "markdown",
      "metadata": {
        "id": "VlYjv4z1RMNn"
      },
      "source": [
        "## Implementation\n",
        "Assignment"
      ]
    },
    {
      "cell_type": "markdown",
      "metadata": {
        "id": "1TN9mozN88Ey"
      },
      "source": [
        "# QnA\n",
        "<ol>\n",
        "<li> Generic question for any algorithm: ADA? (Advantages, Disadvantages and Assumptions)</li>\n",
        "<b>Advantages of SVM</b> <br>\n",
        "<ul><li>Turnkey algorithm, very few parameters to optimize.</li>\n",
        "<li>Optimization is in convex space so a global minimum is reached unlike neural network it doesn't suffer with problem of stucking at local minima.</li>\n",
        "<li>Memory efficient</li>\n",
        "<li>Linear SVM is more effective than other algorithm if the number of features are highe (>1000)</li>\n",
        "</ul>\n",
        "<b>Disadvantages of SVM</b> <br>\n",
        "<ul>\n",
        "<li>Feature scaling</li>\n",
        "<li>Tends to get slower as number of examples increases</li>\n",
        "<li>Hard margin leads to overfitting</li>\n",
        "</ul>\n",
        "<b>Assumpitons</b> <br>\n",
        "<ul><li> None </li></ul>\n",
        "<li>Explain hard and soft margin in context with SVM.</li>\n",
        "<ul><li> <b>Hard Margin</b> Does not allow any error</li>\n",
        "<li> <b>Soft Margin</b> Allow error, it reduces the chance of overfitting</li>\n",
        "</ul>\n",
        "<li>Why does SVM gets slower when number of examples increases?</li>\n",
        "<ul><li> The computaion cost depends upon selection of pair of vecors ($ nC_{2} $).  </li></ul>\n",
        "<li>What are the hyperparameters associated with SVM?</li>\n",
        "<ul><li> Kernel </li>\n",
        "<li> C: Number of permitted errors. Large C gives narrow margin and vice versa. </li></ul>\n",
        "<li>Why the SVM algorithm is known to be memory efficient? </li>\n",
        "<ul><li> Not all the data points are required to make the decision, once the support vectors are decided only the support vectors and equation of the hyperplane is required to make the decision. </li></ul>\n",
        "<li>State the statement is True or False: 'SVM decision boundary is perpendicular bisector to the line joining the closest point of convex hull of the two classes'.  </li>\n",
        "<ul><li> True statement. Geometrical explanation: make convex hull of each of the class, try to join the convex hulls using the closest point and the classification boundary will be the perpendicular bisector.</li></ul>\n",
        "<li>Give a typical example where SVM will be used over RandomForest.</li>\n",
        "<ul><li> Text classification: SVM is an algorithm of choice for higher dimensional space. Number of features are large. </li></ul>\n",
        "<li>What is regularization? How is a SVM algorithm regularized? Is it L1 or L2 regularization in nature?</li>\n",
        "<ul><li> 'C parameter' is actually the <b>regularization parameter </b>. The C parameter is multiplied by sum of errors thus the regularization in general is L1 in nature. But if cost function is modified in such a way that cost of SVM is C multiplied by sum of squares of the erros the regularization becomes L2 in nature.   </li>\n",
        "$$ Loss (L1 \\ regularized) = \\frac{1}{2}|w|^{2} + C \\sum |\\zeta|$$\n",
        "$$ Loss (L2 \\ regularized) = \\frac{1}{2}|w|^{2} + C \\sum \\zeta^{2}$$\n",
        "</ul>\n",
        "\n",
        "</ol>"
      ]
    },
    {
      "cell_type": "markdown",
      "metadata": {
        "id": "7fYvN0eH60RG"
      },
      "source": [
        "# Recommended Readings\n",
        "<ul>\n",
        "<li>Other forms of derivation</li>\n",
        "<li>Mercer's Theorem</li>\n",
        "\n",
        "</ul>"
      ]
    },
    {
      "cell_type": "code",
      "metadata": {
        "id": "i3a7_5lBBa79"
      },
      "source": [
        ""
      ],
      "execution_count": null,
      "outputs": []
    }
  ]
}